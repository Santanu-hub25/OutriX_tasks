{
 "cells": [
  {
   "cell_type": "code",
   "execution_count": 2,
   "id": "a8e7cd68-a546-43a1-9371-3ed0df9ef946",
   "metadata": {},
   "outputs": [
    {
     "name": "stdout",
     "output_type": "stream",
     "text": [
      "Requirement already satisfied: nltk in c:\\users\\santa\\appdata\\local\\programs\\python\\python311\\lib\\site-packages (3.9.1)\n",
      "Requirement already satisfied: scikit-learn in c:\\users\\santa\\appdata\\local\\programs\\python\\python311\\lib\\site-packages (1.7.0)\n",
      "Requirement already satisfied: click in c:\\users\\santa\\appdata\\local\\programs\\python\\python311\\lib\\site-packages (from nltk) (8.2.1)\n",
      "Requirement already satisfied: joblib in c:\\users\\santa\\appdata\\local\\programs\\python\\python311\\lib\\site-packages (from nltk) (1.5.1)\n",
      "Requirement already satisfied: regex>=2021.8.3 in c:\\users\\santa\\appdata\\local\\programs\\python\\python311\\lib\\site-packages (from nltk) (2024.11.6)\n",
      "Requirement already satisfied: tqdm in c:\\users\\santa\\appdata\\local\\programs\\python\\python311\\lib\\site-packages (from nltk) (4.67.1)\n",
      "Requirement already satisfied: numpy>=1.22.0 in c:\\users\\santa\\appdata\\local\\programs\\python\\python311\\lib\\site-packages (from scikit-learn) (2.3.1)\n",
      "Requirement already satisfied: scipy>=1.8.0 in c:\\users\\santa\\appdata\\local\\programs\\python\\python311\\lib\\site-packages (from scikit-learn) (1.16.0)\n",
      "Requirement already satisfied: threadpoolctl>=3.1.0 in c:\\users\\santa\\appdata\\local\\programs\\python\\python311\\lib\\site-packages (from scikit-learn) (3.6.0)\n",
      "Requirement already satisfied: colorama in c:\\users\\santa\\appdata\\local\\programs\\python\\python311\\lib\\site-packages (from click->nltk) (0.4.6)\n"
     ]
    }
   ],
   "source": [
    "# Install required libraries\n",
    "!pip install nltk scikit-learn\n"
   ]
  },
  {
   "cell_type": "code",
   "execution_count": 3,
   "id": "49e8fc9e-63f7-4e67-bcef-26cf3401c6c7",
   "metadata": {},
   "outputs": [],
   "source": [
    "# Preparing the Data\n",
    "# Create a list of FAQs and their corresponding answers. For simple conversation, include greetings and common responses.\n",
    "faq_data = [\n",
    "    {\"question\": \"Hi\", \"answer\": \"Hello! How can I help you today?\"},\n",
    "    {\"question\": \"Hello\", \"answer\": \"Hi there! What can I do for you?\"},\n",
    "    {\"question\": \"Bye\", \"answer\": \"Goodbye! Have a great day!\"},\n",
    "    {\"question\": \"What are your hours?\", \"answer\": \"We are open from 9 AM to 5 PM, Monday to Friday.\"},\n",
    "    {\"question\": \"Where are you located?\", \"answer\": \"We are located at 123 Main Street.\"},\n",
    "    {\"question\": \"How can I contact support?\", \"answer\": \"You can contact support at support@example.com.\"},\n",
    "    {\"question\": \"Can I talk to a human agent?\", \"answer\": \"Yes. Just type “talk to a human” or “live support,” and the chatbot will transfer your request if support is available.\"},\n",
    "    {\"question\": \"Is the chatbot collecting my personal data?\", \"answer\": \"The chatbot may collect information to provide better support. However, your data is handled according to our [privacy policy]. We do not sell or misuse personal data.\"},\n",
    "    {\"question\": \"Is this chatbot multilingual?\", \"answer\": \"Currently, it supports [English, French, Spanish]. We’re working to support more languages in the future.\"}\n",
    "    \n",
    "]\n"
   ]
  },
  {
   "cell_type": "code",
   "execution_count": 4,
   "id": "0de453a3-8be8-4d90-82cc-98e82c4a6900",
   "metadata": {},
   "outputs": [
    {
     "name": "stderr",
     "output_type": "stream",
     "text": [
      "[nltk_data] Downloading package punkt to\n",
      "[nltk_data]     C:\\Users\\santa\\AppData\\Roaming\\nltk_data...\n",
      "[nltk_data]   Package punkt is already up-to-date!\n",
      "[nltk_data] Downloading package stopwords to\n",
      "[nltk_data]     C:\\Users\\santa\\AppData\\Roaming\\nltk_data...\n",
      "[nltk_data]   Package stopwords is already up-to-date!\n"
     ]
    }
   ],
   "source": [
    "# Text Preprocessing\n",
    "# The preprocess function cleans the text by:\n",
    "\n",
    "# Converting to lowercase.\n",
    "\n",
    "# Tokenizing into words.\n",
    "\n",
    "# Removing punctuation.\n",
    "\n",
    "# Removing common stopwords (like \"the\", \"is\", \"and\") that do not add much meaning.\n",
    "\n",
    "# This helps the model focus on important words for matching.\n",
    "import nltk\n",
    "import string\n",
    "from nltk.corpus import stopwords\n",
    "\n",
    "nltk.download('punkt')\n",
    "nltk.download('stopwords')\n",
    "\n",
    "def preprocess(text):\n",
    "    tokens = nltk.word_tokenize(text.lower())\n",
    "    tokens = [t for t in tokens if t not in string.punctuation]\n",
    "    tokens = [t for t in tokens if t not in stopwords.words('english')]\n",
    "    return \" \".join(tokens)\n"
   ]
  },
  {
   "cell_type": "code",
   "execution_count": 5,
   "id": "b21684b0-94e0-46b9-9900-4dc9b0b85a79",
   "metadata": {},
   "outputs": [],
   "source": [
    "# Vectorizing Questions\n",
    "# The TfidfVectorizer converts text into numerical vectors based on word importance.\n",
    "\n",
    "# It uses the preprocess function to clean questions before vectorization.\n",
    "\n",
    "# X is a matrix where each row corresponds to a question vector.\n",
    "\n",
    "# This allows us to compare user input with all questions numerically.\n",
    "from sklearn.feature_extraction.text import TfidfVectorizer\n",
    "\n",
    "questions = [item['question'] for item in faq_data]\n",
    "answers = [item['answer'] for item in faq_data]\n",
    "\n",
    "vectorizer = TfidfVectorizer(preprocessor=preprocess)\n",
    "X = vectorizer.fit_transform(questions)\n"
   ]
  },
  {
   "cell_type": "code",
   "execution_count": 6,
   "id": "91fabbad-a141-499b-99fb-d9a95b015ea5",
   "metadata": {},
   "outputs": [],
   "source": [
    "# Setting Up the Chatbot Logic\n",
    "# For each user input, compute similarity with all FAQ questions and return the answer with the highest similarity.\n",
    "# User input is vectorized using the same vectorizer.\n",
    "\n",
    "# cosine_similarity measures how similar the user input is to each question.\n",
    "\n",
    "# The highest similarity score's index (idx) is found.\n",
    "\n",
    "# If the similarity is above 0.2 (a chosen threshold), the corresponding answer is returned.\n",
    "\n",
    "# Otherwise, a fallback message is given.\n",
    "from sklearn.metrics.pairwise import cosine_similarity\n",
    "import numpy as np\n",
    "\n",
    "def get_response(user_input):\n",
    "    user_vec = vectorizer.transform([user_input])\n",
    "    similarities = cosine_similarity(user_vec, X)\n",
    "    idx = np.argmax(similarities)\n",
    "    if similarities[0, idx] > 0.2:  # Threshold for matching\n",
    "        return answers[idx]\n",
    "    else:\n",
    "        return \"I'm sorry, I don't understand. Can you please rephrase?\"\n"
   ]
  },
  {
   "cell_type": "code",
   "execution_count": 7,
   "id": "73c49e3f-2757-44f7-8271-e0e74d4862f8",
   "metadata": {},
   "outputs": [
    {
     "name": "stdin",
     "output_type": "stream",
     "text": [
      "You:  hi\n"
     ]
    },
    {
     "name": "stdout",
     "output_type": "stream",
     "text": [
      "Bot: Hello! How can I help you today?\n"
     ]
    },
    {
     "name": "stdin",
     "output_type": "stream",
     "text": [
      "You:  hello\n"
     ]
    },
    {
     "name": "stdout",
     "output_type": "stream",
     "text": [
      "Bot: Hi there! What can I do for you?\n"
     ]
    },
    {
     "name": "stdin",
     "output_type": "stream",
     "text": [
      "You:  can i talk to a human agent ?\n"
     ]
    },
    {
     "name": "stdout",
     "output_type": "stream",
     "text": [
      "Bot: Yes. Just type “talk to a human” or “live support,” and the chatbot will transfer your request if support is available.\n"
     ]
    },
    {
     "name": "stdin",
     "output_type": "stream",
     "text": [
      "You:  who are you ?\n"
     ]
    },
    {
     "name": "stdout",
     "output_type": "stream",
     "text": [
      "Bot: I'm sorry, I don't understand. Can you please rephrase?\n"
     ]
    },
    {
     "name": "stdin",
     "output_type": "stream",
     "text": [
      "You:  bye\n"
     ]
    },
    {
     "name": "stdout",
     "output_type": "stream",
     "text": [
      "Bot: Goodbye! Have a nice day!\n"
     ]
    }
   ],
   "source": [
    "# Chat Loop\n",
    "# This loop continuously takes user input.\n",
    "\n",
    "# If the user types \"exit\", \"quit\", or \"bye\", the chatbot says goodbye and stops.\n",
    "\n",
    "# Otherwise, it calls get_response and prints the answer.\n",
    "while True:\n",
    "    user_input = input(\"You: \")\n",
    "    if user_input.lower() in [\"exit\", \"quit\", \"bye\"]:\n",
    "        print(\"Bot: Goodbye! Have a nice day!\")\n",
    "        break\n",
    "    response = get_response(user_input)\n",
    "    print(\"Bot:\", response)\n"
   ]
  },
  {
   "cell_type": "code",
   "execution_count": null,
   "id": "0aaa96ef-f9b6-4a4c-83bb-be4f9eaa5761",
   "metadata": {},
   "outputs": [],
   "source": []
  }
 ],
 "metadata": {
  "kernelspec": {
   "display_name": "Python 3 (ipykernel)",
   "language": "python",
   "name": "python3"
  },
  "language_info": {
   "codemirror_mode": {
    "name": "ipython",
    "version": 3
   },
   "file_extension": ".py",
   "mimetype": "text/x-python",
   "name": "python",
   "nbconvert_exporter": "python",
   "pygments_lexer": "ipython3",
   "version": "3.11.3"
  }
 },
 "nbformat": 4,
 "nbformat_minor": 5
}
